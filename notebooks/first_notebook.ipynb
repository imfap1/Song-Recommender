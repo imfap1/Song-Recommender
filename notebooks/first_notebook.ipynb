{
 "cells": [
  {
   "cell_type": "code",
   "execution_count": 1,
   "metadata": {},
   "outputs": [],
   "source": [
    "import pandas as pd\n",
    "import numpy as np\n",
    "\n",
    "#-----------------------------------------------#\n",
    "\n",
    "import time\n",
    "import os\n",
    "from dotenv import load_dotenv\n",
    "\n",
    "#-----------------------------------------------#\n",
    "\n",
    "from spotipy.oauth2 import SpotifyOAuth\n",
    "import spotipy\n",
    "import spotipy.util as util\n",
    "from spotipy.cache_handler import CacheHandler\n",
    "\n",
    "#-----------------------------------------------#"
   ]
  },
  {
   "cell_type": "code",
   "execution_count": 2,
   "metadata": {},
   "outputs": [
    {
     "data": {
      "text/plain": [
       "True"
      ]
     },
     "execution_count": 2,
     "metadata": {},
     "output_type": "execute_result"
    }
   ],
   "source": [
    "load_dotenv()"
   ]
  },
  {
   "cell_type": "markdown",
   "metadata": {},
   "source": [
    "#### Setting Up Spotify API Client Authentication"
   ]
  },
  {
   "cell_type": "code",
   "execution_count": 3,
   "metadata": {},
   "outputs": [],
   "source": [
    "cid = os.getenv('SPOTIPY_CLIENT_ID')\n",
    "secret = os.getenv('SPOTIPY_CLIENT_SECRET')\n",
    "redirect_uri = 'http://localhost:8080'\n",
    "username = os.getenv('USERNAME')\n",
    "\n",
    "scope = 'user-top-read playlist-modify-public playlist-modify-private'\n",
    "cache_path = os.path.abspath(f\"../spotify_data_cache/{username}\")\n",
    "auth_manager = SpotifyOAuth(client_id=cid, client_secret=secret, redirect_uri=redirect_uri, scope=scope, username=username, cache_path=cache_path)\n",
    "sp = spotipy.Spotify(auth_manager=auth_manager)"
   ]
  },
  {
   "cell_type": "markdown",
   "metadata": {},
   "source": [
    "#### Fetching Top 20 Tracks from Spotify for Current User"
   ]
  },
  {
   "cell_type": "code",
   "execution_count": 4,
   "metadata": {},
   "outputs": [],
   "source": [
    "top20_raw = sp.current_user_top_tracks(time_range='short_term', limit=20)"
   ]
  },
  {
   "cell_type": "markdown",
   "metadata": {},
   "source": [
    "#### Printing Top 20 Spotify Tracks with Artist Names"
   ]
  },
  {
   "cell_type": "code",
   "execution_count": 17,
   "metadata": {},
   "outputs": [],
   "source": [
    "for i, item in enumerate(top20_raw['items']):\n",
    "    print(i+1, item['name'], '//', item['artists'][0]['name'])"
   ]
  },
  {
   "cell_type": "markdown",
   "metadata": {},
   "source": [
    "#### Extracting Track IDs, Names, and Audio Features from Top 20 Spotify Tracks"
   ]
  },
  {
   "cell_type": "code",
   "execution_count": 11,
   "metadata": {},
   "outputs": [],
   "source": [
    "import pandas as pd\n",
    "\n",
    "# Obtén la lista de las canciones\n",
    "tracks = top20_raw['items']\n",
    "\n",
    "# Crea listas para almacenar la información de las canciones y sus características de audio\n",
    "track_ids = []\n",
    "track_names = []\n",
    "artists = []\n",
    "album_names = []\n",
    "release_dates = []\n",
    "popularity = []\n",
    "acousticness = []\n",
    "danceability = []\n",
    "energy = []\n",
    "instrumentalness = []\n",
    "liveness = []\n",
    "loudness = []\n",
    "speechiness = []\n",
    "tempo = []\n",
    "valence = []\n",
    "explicit = []  # Agrega la columna explicit\n",
    "duration_ms = []  # Agrega la columna duration_ms\n",
    "\n",
    "for track in tracks:\n",
    "    track_id = track['id']\n",
    "    track_name = track['name']\n",
    "    \n",
    "    artist_names = [artist['name'] for artist in track['artists']]\n",
    "    artist_names_str = ', '.join(artist_names)\n",
    "    \n",
    "    album_name = track['album']['name']\n",
    "    release_date = track['album']['release_date']\n",
    "    track_popularity = track['popularity']\n",
    "    \n",
    "    track_ids.append(track_id)\n",
    "    track_names.append(track_name)\n",
    "    artists.append(artist_names_str)\n",
    "    album_names.append(album_name)\n",
    "    release_dates.append(release_date)\n",
    "    popularity.append(track_popularity)\n",
    "    \n",
    "    audio_features = sp.audio_features(track_id)[0]\n",
    "    acousticness.append(audio_features['acousticness'])\n",
    "    danceability.append(audio_features['danceability'])\n",
    "    energy.append(audio_features['energy'])\n",
    "    instrumentalness.append(audio_features['instrumentalness'])\n",
    "    liveness.append(audio_features['liveness'])\n",
    "    loudness.append(audio_features['loudness'])\n",
    "    speechiness.append(audio_features['speechiness'])\n",
    "    tempo.append(audio_features['tempo'])\n",
    "    valence.append(audio_features['valence'])\n",
    "    \n",
    "    explicitness = track.get('explicit', None)  # Obtiene la información sobre si la canción es explícita\n",
    "    explicit.append(explicitness)  # Agrega la información a la lista explicit\n",
    "    \n",
    "    duration = audio_features.get('duration_ms', None)  # Obtiene la duración en milisegundos\n",
    "    duration_ms.append(duration)  # Agrega la duración a la lista duration_ms\n",
    "\n",
    "df = pd.DataFrame({\n",
    "    'Track ID': track_ids,\n",
    "    'Track Name': track_names,\n",
    "    'Artists': artists,\n",
    "    'Album Name': album_names,\n",
    "    'Release Date': release_dates,\n",
    "    'Explicit': explicit,  # Agrega la columna Explicit\n",
    "    'Popularity': popularity,\n",
    "    'Acousticness': acousticness,\n",
    "    'Danceability': danceability,\n",
    "    'Energy': energy,\n",
    "    'Instrumentalness': instrumentalness,\n",
    "    'Liveness': liveness,\n",
    "    'Loudness': loudness,\n",
    "    'Speechiness': speechiness,\n",
    "    'Tempo': tempo,\n",
    "    'Valence': valence,\n",
    "    'Duration_ms': duration_ms  # Agrega la columna Duration_ms\n",
    "})\n"
   ]
  },
  {
   "cell_type": "code",
   "execution_count": 12,
   "metadata": {},
   "outputs": [],
   "source": [
    "top20 = df[['Track ID', 'Danceability', 'Energy', 'Loudness', 'Speechiness', 'Acousticness', 'Instrumentalness', 'Liveness', 'Valence', 'Tempo', 'Duration_ms']]\n",
    "\n",
    "# Guarda los DataFrames en archivos CSV\n",
    "df.to_csv('../data/my_top_20.csv', index=False)\n",
    "top20.to_csv('../data/clean_data_top20.csv', index=track_name)"
   ]
  },
  {
   "cell_type": "markdown",
   "metadata": {},
   "source": [
    "#### Listing Artist IDs and Names from My Top 20 Spotify Tracks"
   ]
  },
  {
   "cell_type": "code",
   "execution_count": 13,
   "metadata": {},
   "outputs": [
    {
     "name": "stdout",
     "output_type": "stream",
     "text": [
      "Artists in my top 20:\n",
      "=====================\n",
      "0jbo7KFNMiIkfBR6ih0yhm: iñigo quintero\n",
      "790FomKkXshlbRYZFtlgla: KAROL G\n",
      "45dkTj5sMRSjrmBSBeiHym: Tate McRae\n",
      "2ayNSoKPCRAfjp6hQ76hRu: Nacho\n",
      "790FomKkXshlbRYZFtlgla: KAROL G\n",
      "2wY79sveU1sp5g7SokKOiI: Sam Smith\n",
      "3psizJPIbIEEctInvdWSZk: GUNTTER\n",
      "4Uc8Dsxct0oMqx0P6i60ea: Conan Gray\n",
      "7iK8PXO48WeuP03g8YR51W: Myke Towers\n",
      "0jbo7KFNMiIkfBR6ih0yhm: iñigo quintero\n",
      "22wbnEMDvgVIAGdFeek6ET: Benson Boone\n",
      "39csiig8WOh2SMguk2nuL5: Daniel Leggs\n",
      "5KsRA81UaMVKvLNiwDySfp: Jonah Kagen\n",
      "4IWBUUAFIplrNtaOHcJPRM: James Arthur\n",
      "1TtXnWcUs0FCkaZDPGYHdf: Darell\n",
      "74KM79TiuVKeVCqs8QtB0B: Sabrina Carpenter\n",
      "21451j1KhjAiaYKflxBjr1: Zion & Lennox\n",
      "2jHp7gQArCQrlMvdrIVFCg: Anson Seabra\n",
      "2C1Pj5TMq8QjqbwQ4tmDtO: Punto40\n",
      "1SupJlEpv7RS2tPNRaHViT: Nicky Jam\n"
     ]
    }
   ],
   "source": [
    "ids_artists = []\n",
    "print('Artists in my top 20:')\n",
    "print('=====================')\n",
    "for item in top20_raw['items']:\n",
    "    artist_id = item['artists'][0]['id']\n",
    "    artist_name = item['artists'][0]['name']\n",
    "    print(f'{artist_id}: {artist_name}')\n",
    "    ids_artists.append(artist_id)"
   ]
  },
  {
   "cell_type": "markdown",
   "metadata": {},
   "source": [
    "#### Counting Unique Artists in Top 20 Spotify Tracks"
   ]
  },
  {
   "cell_type": "code",
   "execution_count": 14,
   "metadata": {},
   "outputs": [
    {
     "name": "stdout",
     "output_type": "stream",
     "text": [
      "Número de artistas (sin repeticiones): 18\n"
     ]
    }
   ],
   "source": [
    "ids_artists = list(set(ids_artists))\n",
    "print(f'Número de artistas (sin repeticiones): {len(ids_artists)}')"
   ]
  },
  {
   "cell_type": "markdown",
   "metadata": {},
   "source": [
    "#### Retrieving and Displaying Similar Artists for Top Spotify Artists"
   ]
  },
  {
   "cell_type": "code",
   "execution_count": 15,
   "metadata": {},
   "outputs": [
    {
     "name": "stdout",
     "output_type": "stream",
     "text": [
      "Similar Artists:\n",
      "=====================\n"
     ]
    }
   ],
   "source": [
    "import cachetools\n",
    "from cachetools import TTLCache\n",
    "\n",
    "cache = TTLCache(maxsize=100, ttl=3600)\n",
    "\n",
    "def get_artist_related_artists_with_cache(sp, artist_id):\n",
    "    # Verifica si el resultado está en caché\n",
    "    if artist_id in cache:\n",
    "        print(f'Usando resultado en caché para {artist_id}')\n",
    "        return cache[artist_id]\n",
    "    \n",
    "    # Si no está en caché, realiza la llamada a la API\n",
    "    artists = sp.artist_related_artists(artist_id)['artists']\n",
    "    \n",
    "    # Almacena el resultado en caché\n",
    "    cache[artist_id] = artists\n",
    "    \n",
    "    return artists\n",
    "\n",
    "# Ahora puedes usar esta función para obtener los artistas relacionados, y se almacenarán en caché\n",
    "print('Similar Artists:')\n",
    "print('=====================')\n",
    "ids_similar_artists = []\n",
    "for artist_id in ids_artists:\n",
    "    artists = get_artist_related_artists_with_cache(sp, artist_id)\n",
    "    for item in artists:\n",
    "        artist_id = item['id']\n",
    "        artist_name = item['name']\n",
    "        print(f'{artist_id}: {artist_name}')\n",
    "        ids_similar_artists.append(artist_id)\n"
   ]
  },
  {
   "cell_type": "markdown",
   "metadata": {},
   "source": [
    "#### Appending Similar Artists' IDs to the List of Original Artist IDs"
   ]
  },
  {
   "cell_type": "code",
   "execution_count": null,
   "metadata": {},
   "outputs": [],
   "source": [
    "ids_artists.extend(ids_similar_artists)"
   ]
  },
  {
   "cell_type": "markdown",
   "metadata": {},
   "source": [
    "#### Counting Unique Artists Including Similar Artists"
   ]
  },
  {
   "cell_type": "code",
   "execution_count": 10,
   "metadata": {},
   "outputs": [
    {
     "name": "stdout",
     "output_type": "stream",
     "text": [
      "Number of artists (without repetitions): 18\n"
     ]
    }
   ],
   "source": [
    "ids_artists = list(set(ids_artists))\n",
    "print(f'Number of artists (without repetitions): {len(ids_artists)}')"
   ]
  },
  {
   "cell_type": "markdown",
   "metadata": {},
   "source": [
    "#### Fetching Top 20 New Releases from Spotify"
   ]
  },
  {
   "cell_type": "code",
   "execution_count": 11,
   "metadata": {},
   "outputs": [],
   "source": [
    "new_releases = sp.new_releases(limit=20)['albums']"
   ]
  },
  {
   "cell_type": "markdown",
   "metadata": {},
   "source": [
    "#### Listing Artists with Recent Album Releases on Spotify"
   ]
  },
  {
   "cell_type": "code",
   "execution_count": 12,
   "metadata": {},
   "outputs": [
    {
     "name": "stdout",
     "output_type": "stream",
     "text": [
      "\n",
      "Recent Album Releases:\n",
      "=====================\n",
      "1Mw40k757jZuiL0NIJpdO5: GULEED - // Cuando Menos Lo Espera, 2023-07-07\n",
      "6k8mwkKJKKjBILo7ypBspl: Ana Mena - // bellodrama, 2023-03-24\n",
      "7iK8PXO48WeuP03g8YR51W: Myke Towers - // LA VIDA ES UNA, 2023-03-23\n",
      "5XJDexmWFLWOkjOEjOVX3e: Eladio Carrion - // 3MEN2 KBRN, 2023-03-17\n",
      "790FomKkXshlbRYZFtlgla: KAROL G - // MAÑANA SERÁ BONITO, 2023-02-24\n",
      "2auC28zjQyVTsiZKNgPRGs: RM - // Indigo, 2022-12-02\n",
      "6KImCVD70vtIoJWnq6nGn3: Harry Styles - // Harry's House, 2022-05-20\n",
      "4q3ewBCX7sLwd24euuV69X: Bad Bunny - // Un Verano Sin Ti, 2022-05-06\n",
      "2R21vXR83lH98kGeO99Y66: Anuel AA - // Las Leyendas Nunca Mueren, 2021-11-26\n",
      "4dpARuHxo51G3z768sgnrY: Adele - // 30, 2021-11-19\n",
      "6eUKZXaKkcviH0Ku9w2n3V: Ed Sheeran - // =, 2021-10-29\n",
      "4gzpq5DPGxSnKTe4SA8HAU: Coldplay - // Music Of The Spheres, 2021-10-15\n",
      "53KwLdlmrlCelAZMaLVZqU: James Blake - // Friends That Break Your Heart, 2021-10-08\n",
      "4MzJMcHQBl9SIYSjwWn8QW: Spiritbox - // Eternal Blue, 2021-09-17\n",
      "1vyhD5VmyZ7KMfW5gqLgo5: J Balvin - // JOSE, 2021-09-10\n",
      "5K4W6rqBFWDnAN6FQUkS6x: Kanye West - // Donda, 2021-08-29\n",
      "3TVXtAsR1Inumwj472S9r4: Drake - // Certified Lover Boy, 2021-09-03\n",
      "6nVcHLIgY5pE2YCl8ubca1: Jhayco - // Timelezz, 2021-09-03\n",
      "6Xgp2XMz1fhVYe7i6yNAax: Trippie Redd - // Trip At Knight, 2021-08-20\n",
      "163tK9Wjr9P9DmM0AVK7lm: Lorde - // Solar Power, 2021-08-20\n"
     ]
    }
   ],
   "source": [
    "print('')\n",
    "print('Recent Album Releases:')\n",
    "print('=====================')\n",
    "for item in new_releases['items']:\n",
    "    artist_id = item['artists'][0]['id']\n",
    "    artist_name = item['artists'][0]['name']\n",
    "    album_name = item['name']\n",
    "    release_date = item['release_date']\n",
    "    print(f'{artist_id}: {artist_name} - // {album_name}, {release_date}')\n",
    "    ids_artists.append(artist_id)"
   ]
  },
  {
   "cell_type": "markdown",
   "metadata": {},
   "source": [
    "#### Updating and Counting Unique Artist IDs After Adding Recent Releases"
   ]
  },
  {
   "cell_type": "code",
   "execution_count": 13,
   "metadata": {},
   "outputs": [
    {
     "name": "stdout",
     "output_type": "stream",
     "text": [
      "Number of artists (without repetitions): 36\n"
     ]
    }
   ],
   "source": [
    "ids_artists = list(set(ids_artists))\n",
    "print(f'Number of artists (without repetitions): {len(ids_artists)}')"
   ]
  },
  {
   "cell_type": "markdown",
   "metadata": {},
   "source": [
    "#### Collecting the Latest Album ID for Each Unique Artist from Spotify"
   ]
  },
  {
   "cell_type": "code",
   "execution_count": 14,
   "metadata": {},
   "outputs": [
    {
     "name": "stdout",
     "output_type": "stream",
     "text": [
      "Processing artist 1 of 36...\n"
     ]
    }
   ],
   "source": [
    "id_albums = []\n",
    "nartists = len(ids_artists)\n",
    "for i, id_artist in enumerate(ids_artists):\n",
    "    print(f'Processing artist {i+1} of {nartists}...')\n",
    "    albums = sp.artist_albums(id_artist, limit=1)\n",
    "    for album in albums['items']:\n",
    "        id_albums.append(album['id'])\n",
    "    time.sleep(1)\n",
    "print('Done!')"
   ]
  },
  {
   "cell_type": "markdown",
   "metadata": {},
   "source": [
    "#### Retrieving Track IDs from Albums with a Limit of 3 Tracks Per Album"
   ]
  },
  {
   "cell_type": "code",
   "execution_count": null,
   "metadata": {},
   "outputs": [],
   "source": [
    "id_tracks = []\n",
    "nalbums = len(id_albums)\n",
    "for i, id_album in enumerate(id_albums):\n",
    "    print(f'Processing album {i+1} of {nalbums}...')\n",
    "    album_tracks = sp.album_tracks(id_album, limit=3)\n",
    "    for track in album_tracks['items']:\n",
    "        id_tracks.append(track['id'])\n",
    "    #time.sleep(1)  # Adding a 1-second delay to avoid rate limiting\n",
    "print(f'Done! Total number of pre-candidate tracks: {len(id_tracks)}')"
   ]
  },
  {
   "cell_type": "markdown",
   "metadata": {},
   "source": [
    "#### Extracting Track Names and Audio Features for Pre-Candidate Tracks"
   ]
  },
  {
   "cell_type": "code",
   "execution_count": null,
   "metadata": {},
   "outputs": [],
   "source": [
    "track_names = []\n",
    "features = []\n",
    "ntracks = len(id_tracks)\n",
    "for i, track_id in enumerate(id_tracks):\n",
    "    print(f'Processing track {i+1} de {ntracks}...')\n",
    "    track_name = sp.track(track_id)['name']\n",
    "    audio_features = sp.audio_features(track_id)\n",
    "    \n",
    "    if audio_features[0] != None:\n",
    "        track_names.append(track_name)\n",
    "        features.append(audio_features[0])\n",
    "print('Donee!')"
   ]
  },
  {
   "cell_type": "markdown",
   "metadata": {},
   "source": [
    "#### Creating a DataFrame and Exporting Selected Columns to CSV"
   ]
  },
  {
   "cell_type": "code",
   "execution_count": null,
   "metadata": {},
   "outputs": [],
   "source": [
    "candidatos_df = pd.DataFrame(features,index = track_names)\n",
    "candidatos = candidatos_df[['id', 'danceability',\t'energy',\t'key',\t'loudness',\t'mode',\t'speechiness',\t'acousticness',\t'instrumentalness',\t'liveness',\t'valence',\t'tempo', 'duration_ms']]\n",
    "candidatos_df.to_csv('../data/candidatos.csv')"
   ]
  },
  {
   "cell_type": "markdown",
   "metadata": {},
   "source": [
    "#### Combining and Updating DataFrame for Candidate Tracks"
   ]
  },
  {
   "cell_type": "code",
   "execution_count": null,
   "metadata": {},
   "outputs": [],
   "source": [
    "columns_to_keep = ['id', 'danceability', 'energy', 'key', 'loudness', 'mode', 'speechiness', 'acousticness', 'instrumentalness', 'liveness', 'valence', 'tempo', 'duration_ms']\n",
    "\n",
    "candidatos = candidatos_df[columns_to_keep]\n",
    "if len(track_names) == len(candidatos):\n",
    "    candidatos.index = track_names\n",
    "else:\n",
    "    print(\"Error: Length of track_names does not match length of candidates_df\")\n",
    "\n",
    "csv_file_path = '../data/candidatos.csv'\n",
    "\n",
    "if os.path.exists(csv_file_path):\n",
    "    datos_existentes_df = pd.read_csv(csv_file_path, index_col=0)\n",
    "    datos_combinados_df = pd.concat([candidatos, datos_existentes_df]).drop_duplicates()\n",
    "else:\n",
    "    datos_combinados_df = candidatos\n",
    "\n",
    "datos_combinados_df.to_csv(csv_file_path, index=True)"
   ]
  },
  {
   "cell_type": "code",
   "execution_count": null,
   "metadata": {},
   "outputs": [],
   "source": [
    "read = pd.read_csv('../data/candidatos.csv', index_col=0)"
   ]
  }
 ],
 "metadata": {
  "kernelspec": {
   "display_name": "ironhack",
   "language": "python",
   "name": "ironhack"
  },
  "language_info": {
   "codemirror_mode": {
    "name": "ipython",
    "version": 3
   },
   "file_extension": ".py",
   "mimetype": "text/x-python",
   "name": "python",
   "nbconvert_exporter": "python",
   "pygments_lexer": "ipython3",
   "version": "3.11.5"
  }
 },
 "nbformat": 4,
 "nbformat_minor": 2
}
