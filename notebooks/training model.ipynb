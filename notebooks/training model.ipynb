{
 "cells": [
  {
   "cell_type": "code",
   "execution_count": 16,
   "metadata": {},
   "outputs": [],
   "source": [
    "import pandas as pd\n",
    "import numpy as np\n",
    "\n",
    "import os\n",
    "from dotenv import load_dotenv\n",
    "load_dotenv()\n",
    "\n",
    "from spotipy.oauth2 import SpotifyOAuth\n",
    "import spotipy\n",
    "import spotipy.util as util\n",
    "\n",
    "from sklearn.preprocessing import StandardScaler\n",
    "from sklearn.metrics.pairwise import linear_kernel"
   ]
  },
  {
   "cell_type": "code",
   "execution_count": 17,
   "metadata": {},
   "outputs": [],
   "source": [
    "top20_csv = pd.read_csv('../data/top20.csv', index_col=0)\n",
    "candidatos_csv = pd.read_csv('../data/candidatos.csv', index_col=0)"
   ]
  },
  {
   "cell_type": "code",
   "execution_count": 18,
   "metadata": {},
   "outputs": [],
   "source": [
    "top20_mtx = top20_csv.iloc[:,1:].values\n",
    "candidatos_mtx = candidatos_csv.iloc[:,1:].values"
   ]
  },
  {
   "cell_type": "code",
   "execution_count": 19,
   "metadata": {},
   "outputs": [],
   "source": [
    "scaler = StandardScaler()\n",
    "t20_scaled = scaler.fit_transform(top20_mtx)\n",
    "can_scaled = scaler.fit_transform(candidatos_mtx)"
   ]
  },
  {
   "cell_type": "code",
   "execution_count": 20,
   "metadata": {},
   "outputs": [],
   "source": [
    "t20_norm = np.sqrt((t20_scaled*t20_scaled).sum(axis=1))\n",
    "can_norm = np.sqrt((can_scaled*can_scaled).sum(axis=1))"
   ]
  },
  {
   "cell_type": "code",
   "execution_count": 21,
   "metadata": {},
   "outputs": [],
   "source": [
    "nt20 = t20_scaled.shape[0]\n",
    "ncan = can_scaled.shape[0]\n",
    "t20 = t20_scaled/t20_norm.reshape(nt20,1)\n",
    "can = can_scaled/can_norm.reshape(ncan,1)"
   ]
  },
  {
   "cell_type": "code",
   "execution_count": 22,
   "metadata": {},
   "outputs": [
    {
     "data": {
      "text/plain": [
       "(20, 598)"
      ]
     },
     "execution_count": 22,
     "metadata": {},
     "output_type": "execute_result"
    }
   ],
   "source": [
    "cos_sim = linear_kernel(t20,can)\n",
    "cos_sim.shape"
   ]
  },
  {
   "cell_type": "code",
   "execution_count": 23,
   "metadata": {},
   "outputs": [
    {
     "name": "stdout",
     "output_type": "stream",
     "text": [
      "0.08765414690859012\n",
      "0.45383298868460886\n"
     ]
    }
   ],
   "source": [
    "print(cos_sim[6,470])\n",
    "print(cos_sim[3,54])"
   ]
  },
  {
   "cell_type": "code",
   "execution_count": 24,
   "metadata": {},
   "outputs": [],
   "source": [
    "def obtener_candidatos(pos, cos_sim, ncands, umbral = 0.8):\n",
    "    idx = np.where(cos_sim[pos,:]>=umbral)[0] \n",
    "    \n",
    "    idx = idx[np.argsort(cos_sim[pos,idx])[::-1]]\n",
    "    if len(idx) >= ncands:\n",
    "        cands = idx[0:ncands]\n",
    "    else:\n",
    "        cands = idx\n",
    "  \n",
    "    return cands"
   ]
  },
  {
   "cell_type": "code",
   "execution_count": 25,
   "metadata": {},
   "outputs": [
    {
     "name": "stdout",
     "output_type": "stream",
     "text": [
      "0==> pistas filtradas: [156 500 431 391 501], similitudes: [0.90893065 0.90745715 0.89998005 0.89142521 0.88512955]\n",
      "1==> pistas filtradas: [450 449 177], similitudes: [0.88125095 0.81584869 0.80191905]\n",
      "2==> pistas filtradas: [358 193], similitudes: [0.81164574 0.81073033]\n",
      "3==> pistas filtradas: [193], similitudes: [0.95609705]\n",
      "4==> pistas filtradas: [], similitudes: []\n"
     ]
    }
   ],
   "source": [
    "for i in range(5):\n",
    "    cands = obtener_candidatos(i, cos_sim, 5)\n",
    "    print(f'{i}==> pistas filtradas: {cands}, similitudes: {cos_sim[i,cands]}')"
   ]
  },
  {
   "cell_type": "code",
   "execution_count": 26,
   "metadata": {},
   "outputs": [
    {
     "name": "stdout",
     "output_type": "stream",
     "text": [
      "Si No Estás\n",
      "   Like A Record\n",
      "   Doesn’t Feel Like Christmas\n",
      "   Hermosa Flor - Live\n",
      "   Loving Means Leaving\n",
      "   What Are You Doing New Year’s Eve?\n",
      "QLONA\n",
      "   Party Encendido\n",
      "   EN 4\n",
      "   Uwolnić Bonusa\n",
      "greedy\n",
      "   COCO LOCO\n",
      "   Intro (Venezuela)\n",
      "Intro (Venezuela)\n",
      "   Intro (Venezuela)\n",
      "Fire On Fire\n",
      "     ***No se encontraron pistas relacionadas***\n",
      "MI EX TENÍA RAZÓN\n",
      "   Junto al Amanecer - Club Version\n",
      "Sin Tiempo Para Bailar\n",
      "   Sin Tiempo Para Bailar\n",
      "   Running Away\n",
      "Tamagotchi\n",
      "   GUAYETEO\n",
      "LALA\n",
      "   hawaii\n",
      "   Nari (feat. VillaBanks)\n",
      "In The Stars\n",
      "   Movies\n",
      "   Mil y una noches\n",
      "georgia\n",
      "   Still\n",
      "   Amanita\n",
      "   Mil y una noches\n",
      "Running Away\n",
      "   Running Away\n",
      "Read your Mind\n",
      "   Read your Mind\n",
      "   Flowers\n",
      "   Wild Heart\n",
      "   Something Unreal\n",
      "   Santa's Coming for Us\n",
      "Loving Means Leaving\n",
      "   Loving Means Leaving\n",
      "   Sad Forever\n",
      "   la puerta pequeña\n",
      "   Your Kiss\n",
      "   Someone u don't know\n",
      "Peligrosa\n",
      "   Peligrosa\n",
      "   Apretaito\n",
      "   Charlie Be Quiet!\n",
      "   Magnum\n",
      "   Looks Like Me\n",
      "Magnum\n",
      "   Magnum\n",
      "   La Tóxica\n",
      "   SINCERAMENTE\n",
      "   Everything\n",
      "   Deshidrato\n",
      "Plan fatal\n",
      "   Plan fatal\n",
      "   Best Damn Thing\n",
      "   Sauce\n",
      "   Satellite\n",
      "   Entendemos\n",
      "WANDA\n",
      "   Tu Recuerdo\n",
      "Hey Mor\n",
      "     ***No se encontraron pistas relacionadas***\n",
      "AMARGURA\n",
      "   Rulay\n",
      "   Queriéndote\n",
      "   Ex (con La Joaqui)\n",
      "   Sacuda\n"
     ]
    },
    {
     "name": "stderr",
     "output_type": "stream",
     "text": [
      "C:\\Users\\Felix\\AppData\\Local\\Temp\\ipykernel_20208\\3808811813.py:6: FutureWarning: Series.__getitem__ treating keys as positions is deprecated. In a future version, integer keys will always be treated as labels (consistent with DataFrame behavior). To access a value by position, use `ser.iloc[pos]`\n",
      "  ids_t20.append(top20_csv['id'][i])\n",
      "C:\\Users\\Felix\\AppData\\Local\\Temp\\ipykernel_20208\\3808811813.py:15: FutureWarning: Series.__getitem__ treating keys as positions is deprecated. In a future version, integer keys will always be treated as labels (consistent with DataFrame behavior). To access a value by position, use `ser.iloc[pos]`\n",
      "  id_cand = candidatos_csv['id'][j]\n"
     ]
    }
   ],
   "source": [
    "ids_t20 = []\n",
    "ids_playlist = []\n",
    "\n",
    "for i in range(top20_csv.shape[0]):\n",
    "    print(top20_csv.index[i])   \n",
    "    ids_t20.append(top20_csv['id'][i])\n",
    "    \n",
    "    cands = obtener_candidatos(i, cos_sim, 5, umbral=0.8)\n",
    "    \n",
    "\n",
    "    if len(cands)==0:\n",
    "        print('     ***No se encontraron pistas relacionadas***')\n",
    "    else:\n",
    "        for j in cands:\n",
    "            id_cand = candidatos_csv['id'][j]\n",
    "            ids_playlist.append(id_cand)\n",
    "            \n",
    "            print(f'   {candidatos_csv.index[j]}')"
   ]
  },
  {
   "cell_type": "code",
   "execution_count": 27,
   "metadata": {},
   "outputs": [],
   "source": [
    "ids_playlist_dep = [x for x in ids_playlist if x not in ids_t20]\n",
    "ids_playlist_dep = list(set(ids_playlist_dep))"
   ]
  },
  {
   "cell_type": "code",
   "execution_count": 28,
   "metadata": {},
   "outputs": [],
   "source": [
    "cid = os.getenv('SPOTIPY_CLIENT_ID')\n",
    "secret = os.getenv('SPOTIPY_CLIENT_SECRET')\n",
    "redirect_uri = 'http://localhost:8080'\n",
    "username = os.getenv('USERNAME')\n",
    "\n",
    "scope = 'user-top-read playlist-modify-public playlist-modify-private'\n",
    "auth_manager = SpotifyOAuth(client_id=cid, client_secret=secret, redirect_uri=redirect_uri, scope=scope, username=username)\n",
    "sp = spotipy.Spotify(auth_manager=auth_manager)\n",
    "\n",
    "pl = sp.user_playlist_create(user = username, \n",
    "                            name = 'Spotipy Recommender Playlist',\n",
    "                            description = 'Playlist created with the recommendation system')\n",
    "\n",
    "sp.playlist_add_items(pl['id'],ids_playlist_dep)"
   ]
  },
  {
   "cell_type": "code",
   "execution_count": 29,
   "metadata": {},
   "outputs": [
    {
     "data": {
      "text/plain": [
       "{'snapshot_id': 'MyxlY2JjMTZkYTc3NzEyYWQwMGU3Y2IyMDBkNTJiYWFkYjdlYjRkZjI1'}"
      ]
     },
     "execution_count": 29,
     "metadata": {},
     "output_type": "execute_result"
    }
   ],
   "source": [
    "sp.playlist_add_items(pl['id'],ids_playlist_dep)"
   ]
  }
 ],
 "metadata": {
  "kernelspec": {
   "display_name": "ironhack",
   "language": "python",
   "name": "ironhack"
  },
  "language_info": {
   "codemirror_mode": {
    "name": "ipython",
    "version": 3
   },
   "file_extension": ".py",
   "mimetype": "text/x-python",
   "name": "python",
   "nbconvert_exporter": "python",
   "pygments_lexer": "ipython3",
   "version": "3.11.5"
  }
 },
 "nbformat": 4,
 "nbformat_minor": 2
}
